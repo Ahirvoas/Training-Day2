{
 "cells": [
  {
   "cell_type": "markdown",
   "id": "6ff03394",
   "metadata": {},
   "source": [
    "<a href=\"https://colab.research.google.com/github/Ahirvoas/Training-Day2/blob/main/Tutorial_day2.ipynb\" target=\"_parent\"><img src=\"https://colab.research.google.com/assets/colab-badge.svg\" alt=\"Open In Colab\"/></a>"
   ]
  },
  {
   "cell_type": "markdown",
   "id": "26fdc9d5",
   "metadata": {},
   "source": [
    "# Wind Turbine Modeling Workshop\n",
    "\n",
    "# DAY 2 - Case - Floating offfshore wind turbine steady wind\n",
    "\n",
    "<img src=\"Pictures/OC3_FAST.png\" width=\"150\"/>\n",
    "\n",
    "This tutorial is based on the developed model based on the Offshore Code Comparison 3 (model) which is a spar buoy structure with the NREL 5MW wind turbine atop.The gross properties chosen for the NREL 5-MW baseline wind turbine are gathered in the following table.\n",
    "\n",
    "| Rating | 5 MW |\n",
    "|:---:|:---:|\n",
    "| Rotor orientation, Configuraiton | Upwind, 3 Blades |\n",
    "| Rotor, Hub Diameter | 126 m, 3m |\n",
    "| Hub Height | 90 m |\n",
    "| Cut-In, Rated, Cut-Out Wind Speed | 3m/s, 11.4m/s, 25m/s |\n",
    "| Cut-in, rated rotor speed | 6.9 rpm, 12.1 rpm |\n",
    "| Rotor Mass | 110,000 kg |\n",
    "| Nacelle Mass | 240,000 kg |\n",
    "| Tower Mass | 347,460 kg |\n",
    "\n",
    "In this tutorial, we will consider, hereafter, a **steady wind** as external sollicitation. \n",
    "\n"
   ]
  },
  {
   "cell_type": "code",
   "execution_count": null,
   "id": "f88957e0",
   "metadata": {},
   "outputs": [],
   "source": [
    "# Package pyfast importation  (and some useful packages)\n",
    "\n",
    "from pyFAST.input_output import FASTInputFile\n",
    "from pyFAST.case_generation.runner import run_fast\n",
    "from pyFAST.input_output import FASTOutputFile\n",
    "import matplotlib.pyplot as plt\n",
    "from sys import platform\n",
    "\n",
    "import numpy as np\n",
    "from scipy import signal\n",
    "import os\n",
    "from scipy.integrate import simpson"
   ]
  },
  {
   "cell_type": "markdown",
   "id": "aa7aba82",
   "metadata": {},
   "source": [
    "## Test of the OpenFAST configuration on your PC"
   ]
  },
  {
   "cell_type": "code",
   "execution_count": null,
   "id": "c7b9912e",
   "metadata": {},
   "outputs": [],
   "source": [
    "# Specify the OpenFAST binaries and OpenFAST main file for simulation\n",
    "\n",
    "filename_servo = './NRELOffshrBsline5MW_OC3Hywind_ServoDyn.dat' # Insert the name of the InflowWind file with the path (relative or absolute)\n",
    "f_servo = FASTInputFile(filename_servo)\n",
    "if platform == \"linux\" or platform == \"linux2\" or platform == \"darwin\":\n",
    "    FAST_EXE  = '{}'.format(os.popen('which openfast').read())\n",
    "    path = 'OffshoreSteadyWindCtrl-Linux'\n",
    "else:\n",
    "    FAST_EXE  = './openfast_x64.exe'\n",
    "    path = 'OffshoreSteadyWindCtrl'\n",
    "f_servo.write(filename_servo)\n",
    " # Location of a FAST exe (and dll) (For Linux/MAC users: FAST_EXE  = openfast)\n",
    "\n",
    "\n",
    "main_file = './{}/NRELOffshrBsline5MW.fst'.format(path)  # Main file in OpenFAST directory"
   ]
  },
  {
   "cell_type": "markdown",
   "id": "57095bfd",
   "metadata": {},
   "source": [
    "Run the OpenFAST simulation to test by running the function **run_fast** with main_file"
   ]
  },
  {
   "cell_type": "code",
   "execution_count": null,
   "id": "bdc4bd3f",
   "metadata": {},
   "outputs": [],
   "source": [
    "# INSERT CODE"
   ]
  },
  {
   "cell_type": "markdown",
   "id": "a1d24c39",
   "metadata": {},
   "source": [
    "## Run the floating offshore  wind turbine simulation\n",
    "\n",
    "### 1- Modification of the Input Files\n",
    "\n",
    "In practice, OpenFAST models the system via computational modules for aerodynamics, hydrodynamics for offshore structures, control and electrical (servo) system dynamics, and structural dynamics to enable coupled non-linear aero-hydro-servo-elastic simulation in the time domain.\n",
    "\n",
    "<img src=\"Pictures/modules.png\" width=\"500\"/>\n",
    "\n",
    "Each of these modules is independent of the others and is based on a configuration file that creates an arborescence of files to carry out an OpenFAST simulation.\n",
    "\n",
    "<img src=\"Pictures/arborescence.png\" width=\"500\"/>"
   ]
  },
  {
   "cell_type": "markdown",
   "id": "54acc18c",
   "metadata": {},
   "source": [
    "#### Modification of the simulation length\n",
    "\n",
    "Change in the main file the total run time. You can use the function used in the previous cell named **FASTInputFile** in order to modify the file with the extension \".fst\"."
   ]
  },
  {
   "cell_type": "code",
   "execution_count": null,
   "id": "9d5c8d47",
   "metadata": {},
   "outputs": [],
   "source": [
    "# INSERT CODE"
   ]
  },
  {
   "cell_type": "markdown",
   "id": "81002f74",
   "metadata": {},
   "source": [
    "### 2- Run OpenFAST with the new modified files.\n",
    "\n",
    "**Hint:**\n",
    "    \n",
    "    You can use the previous command used during the DAY 1 tutorial in order to run the simulation (the run_fast function developed in the pyFAST package)."
   ]
  },
  {
   "cell_type": "code",
   "execution_count": null,
   "id": "72c1ffdd",
   "metadata": {},
   "outputs": [],
   "source": [
    "# INSERT CODE"
   ]
  },
  {
   "cell_type": "markdown",
   "id": "324b1526",
   "metadata": {},
   "source": [
    "#### Rotor speed and generated power of the wind turbine:\n",
    "\n",
    "Plot the rotor speed and the generated power of the wind turbine versus the time obtained from the previous simulation. For comparison, you can plot the two time-series on the same graph thanks to the function *subplot*. \n",
    "\n",
    "Hint:\n",
    "\n",
    "You can find the corresponding variables of the Pandas Dataframe for the electrical generator power by looking at the Excel file *OutListParameters.xlsx*. \n",
    "\n",
    "An example of the python function to be used:\n",
    "\n",
    "```python\n",
    "import numpy as np\n",
    "import matplotlib.pyplot as plt\n",
    "\n",
    "\n",
    "def f(t):\n",
    "    return np.exp(-t) * np.cos(2*np.pi*t)\n",
    "\n",
    "\n",
    "t1 = np.arange(0.0, 5.0, 0.02)\n",
    "\n",
    "plt.figure()\n",
    "plt.subplot(211)\n",
    "plt.plot(t1, f(t1), color='black')\n",
    "\n",
    "plt.subplot(212)\n",
    "plt.plot(t1, np.cos(2*np.pi*t1), color='tab:orange', linestyle='--')\n",
    "plt.show()\n",
    "```"
   ]
  },
  {
   "cell_type": "code",
   "execution_count": null,
   "id": "1e1a9a50",
   "metadata": {},
   "outputs": [],
   "source": [
    "# INSERT CODE"
   ]
  },
  {
   "cell_type": "markdown",
   "id": "562cde6b",
   "metadata": {},
   "source": [
    "#### Heave displacement of the floating offshore wind turbine:\n",
    "\n",
    "Plot the heave displacement of the wind turbine platform versus the time obtained from the previous simulation. Then you will have to see the spectral response of the wind turbine platform. You will consider a transient period of 200 seconds before to perform a spectral analysis.\n",
    "\n",
    "<img src=\"Pictures/Degrees-of-freedom-floating-wind-turbine.jpg\" width=\"500\"/>\n",
    "\n",
    "**Hint:**\n",
    "\n",
    "    - Load the output file in a new pandas dataframe using df = FASTOutputFile(NAMEFILE).toDataFrame()\n",
    "    \n",
    "    - Use the welch method of the signal python package for the spectral analysis of the temporal series\n",
    "\n",
    "Example of the welch method\n",
    "\n",
    "```python\n",
    "from scipy import signal\n",
    "fs = 10e3\n",
    "N = 1e5\n",
    "amp = 2*np.sqrt(2)\n",
    "freq = 1234.0\n",
    "noise_power = 0.001 * fs / 2\n",
    "time = np.arange(N) / fs\n",
    "x = amp*np.sin(2*np.pi*freq*time)\n",
    "x += rng.normal(scale=np.sqrt(noise_power), size=time.shape)\n",
    "f, Pxx_den = signal.welch(x, fs, nperseg=1024)\n",
    "```\n",
    "\n",
    "For the exercise, we will consider:\\\n",
    "    - nperseg = 2^9\\\n",
    "    - maximum frequency = 1.5\\\n",
    "    - a transition time of 200 seconds"
   ]
  },
  {
   "cell_type": "code",
   "execution_count": null,
   "id": "acc360dd",
   "metadata": {
    "scrolled": true
   },
   "outputs": [],
   "source": [
    "# INSERT CODE FOR TEMPORAL REPRESENTATION"
   ]
  },
  {
   "cell_type": "code",
   "execution_count": null,
   "id": "386dfb38",
   "metadata": {},
   "outputs": [],
   "source": [
    "# INSERT CODE FOR SPECTRAL ANALYSIS USING WELCH"
   ]
  },
  {
   "cell_type": "code",
   "execution_count": null,
   "id": "3b58e32d",
   "metadata": {
    "scrolled": true
   },
   "outputs": [],
   "source": [
    "# INSERT CODE FOR SPECTRAL ANALYSIS PLOT"
   ]
  },
  {
   "cell_type": "markdown",
   "id": "19e919de",
   "metadata": {},
   "source": [
    "### 2 - Numerical modeling versus reality\n",
    "\n",
    "A numerical model cannot be a perfect representation of the real asset. First, the numerical model is a mathematical representation of the system and consequently cannot represent perfectly the real behavior. Moreover, some errors can also appear in the modeling assumptions that we have made in order to build the numerical model.\n",
    "\n",
    "In this section, we will investigate the effect of the second source of error due to a mispecification of the parameters in the numerical model.\n",
    "\n",
    "**Exercice:**\n",
    "    \n",
    "    You will have to load the simulation named 'real_simulation.npy' of the OC3-Hywind floating wind turbine with an increase of 1% of the platform mass. This simulation will be considered as the response of the real system. Then, you will compare the spectral response in heave of the simulation representing the real system with the one performed at the beginning of this tutorial.\n",
    "\n",
    "**Hint:**\n",
    "\n",
    "    - Change the value of the platform mass in the ElastoDyn file\n",
    "    - Use the function FASTInpputFile function\n",
    "    - Use the run_fast function"
   ]
  },
  {
   "cell_type": "markdown",
   "id": "d6cd352a",
   "metadata": {},
   "source": [
    "#### Modification of the ElastoDyn input file\n",
    "\n",
    "Open the excel file named **OutListParameters.xlsx** and find the variable linked to the platform mass. Then, modify the value of this variable in the Elastodyn file by increasing the default value of 1%."
   ]
  },
  {
   "cell_type": "code",
   "execution_count": null,
   "id": "27454a2e",
   "metadata": {
    "scrolled": true
   },
   "outputs": [],
   "source": [
    "filename_elastodyn = r'./OffshoreSteadyCtrl/NRELOffshrBsline5MW_OC3Hywind_ElastoDyn.dat' # Insert the name of the InflowWind file with the path (relative or absolute)\n",
    "f_elasto = FASTInputFile(filename_elastodyn)\n",
    "f_elasto['PtfmMass'] = 7.46633E+06+ 1*7.46633E+06/100\n",
    "new_filename_elastodyn = r'./OffshoreSteadyCtrl/NRELOffshrBsline5MW_OC3Hywind_ElastoDyn_real.dat' # Insert the name of the InflowWind file with the path (relative or absolute)\n",
    "f_elasto.write(new_filename_elastodyn)"
   ]
  },
  {
   "cell_type": "markdown",
   "id": "d33c4546",
   "metadata": {},
   "source": [
    "#### Post-treatment of the simulation\n"
   ]
  },
  {
   "cell_type": "code",
   "execution_count": null,
   "id": "e214de68",
   "metadata": {},
   "outputs": [],
   "source": [
    "# INSERT CODE"
   ]
  },
  {
   "cell_type": "markdown",
   "id": "d4307d1e",
   "metadata": {},
   "source": [
    "2- Power spectrum density\n",
    "\n",
    "Analyze the spectral reponse of the wind turbine platform heave by using the Welch method. Hereafter, you will again consider a transient period of 200 seconds before to perfom a spectral analysis. "
   ]
  },
  {
   "cell_type": "code",
   "execution_count": null,
   "id": "a98f16f2",
   "metadata": {},
   "outputs": [],
   "source": [
    "# INSERT CODE"
   ]
  },
  {
   "cell_type": "markdown",
   "id": "3ea95c2b",
   "metadata": {},
   "source": [
    "3- Comparison with default simulation\n",
    "\n",
    "Load the default simulation named **NRELOffshrBsline5MW_anomaly.out** located in the sub-folder *data*. Again, analyze the spectral response of the wind platform heave by using the welch method. A transcient period of 200 seconds will be considered."
   ]
  },
  {
   "cell_type": "code",
   "execution_count": null,
   "id": "1875a922",
   "metadata": {},
   "outputs": [],
   "source": [
    "# INSERT CODE"
   ]
  },
  {
   "cell_type": "markdown",
   "id": "b575ce64",
   "metadata": {},
   "source": [
    "## Question:\n",
    "### - Which metric can you choose to compare the two spectral responses?\n",
    "### - How to know if it's an anomaly or a mispecification of the numerical model?"
   ]
  },
  {
   "cell_type": "code",
   "execution_count": null,
   "id": "5c45b48d",
   "metadata": {},
   "outputs": [],
   "source": [
    "# INSERT CODE"
   ]
  },
  {
   "cell_type": "markdown",
   "id": "b9fd9f12",
   "metadata": {},
   "source": [
    "## 3 - Identification of anomalies\n",
    "\n",
    "1 - Load the npy file located in the folder data\\\n",
    "2 - Create a PSD for each signal in the dataset. Don't forget to not consider the transition time"
   ]
  },
  {
   "cell_type": "code",
   "execution_count": null,
   "id": "0f4582ac",
   "metadata": {},
   "outputs": [],
   "source": [
    "dataset = np.loadtxt(f'./{path}/data/dataset.txt')\n",
    "# INSERT CODE"
   ]
  },
  {
   "cell_type": "code",
   "execution_count": null,
   "id": "3a01c2b7",
   "metadata": {},
   "outputs": [],
   "source": [
    "# INSERT CODE TO PRINT NUMBER OF ANOMALIES"
   ]
  }
 ],
 "metadata": {
  "kernelspec": {
   "display_name": "Python 3 (ipykernel)",
   "language": "python",
   "name": "python3"
  },
  "language_info": {
   "codemirror_mode": {
    "name": "ipython",
    "version": 3
   },
   "file_extension": ".py",
   "mimetype": "text/x-python",
   "name": "python",
   "nbconvert_exporter": "python",
   "pygments_lexer": "ipython3",
   "version": "3.8.15"
  }
 },
 "nbformat": 4,
 "nbformat_minor": 5
}
