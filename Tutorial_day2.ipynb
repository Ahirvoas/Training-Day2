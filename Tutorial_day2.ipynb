{
  "cells": [
    {
      "cell_type": "markdown",
      "metadata": {
        "colab_type": "text",
        "id": "view-in-github"
      },
      "source": [
        "<a href=\"https://colab.research.google.com/github/Ahirvoas/Training-Day2/blob/main/Tutorial_day2.ipynb\" target=\"_parent\"><img src=\"https://colab.research.google.com/assets/colab-badge.svg\" alt=\"Open In Colab\"/></a>"
      ]
    },
    {
      "cell_type": "code",
      "execution_count": null,
      "id": "EhHYdhm9ZT23",
      "metadata": {
        "colab": {
          "base_uri": "https://localhost:8080/"
        },
        "id": "EhHYdhm9ZT23",
        "outputId": "a5ea8a7a-33c7-45ac-a9cc-5aab5ff1302e"
      },
      "outputs": [],
      "source": [
        "!pip install condacolab &> /dev/null\n",
        "import condacolab\n",
        "condacolab.install()\n",
        "!conda update -n base -c conda-forge conda &> /dev/null"
      ]
    },
    {
      "cell_type": "markdown",
      "id": "ZT4Ld5YjIktM",
      "metadata": {
        "id": "ZT4Ld5YjIktM"
      },
      "source": [
        "### Install the python toolbox package"
      ]
    },
    {
      "cell_type": "code",
      "execution_count": null,
      "id": "UnXIxAt5d_Gn",
      "metadata": {
        "colab": {
          "base_uri": "https://localhost:8080/"
        },
        "id": "UnXIxAt5d_Gn",
        "outputId": "14126228-8109-4784-e6e6-f5b9c7c6c6c7"
      },
      "outputs": [],
      "source": [
        "import os, sys\n",
        "\n",
        "if os.path.isdir('python-toolbox'):\n",
        "  !rm -rf python-toolbox\n",
        "!git clone http://github.com/OpenFAST/python-toolbox\n",
        "%cd python-toolbox\n",
        "!python -m  pip install -e . &> /dev/null\n",
        "sys.path.append(os.getcwd())\n",
        "%cd .."
      ]
    },
    {
      "cell_type": "code",
      "execution_count": null,
      "id": "zujoStSyZJgr",
      "metadata": {
        "id": "zujoStSyZJgr"
      },
      "outputs": [],
      "source": [
        "!conda install -c conda-forge openfast &> /dev/null"
      ]
    },
    {
      "cell_type": "markdown",
      "id": "BWmBPfYZLhso",
      "metadata": {
        "id": "BWmBPfYZLhso"
      },
      "source": [
        "### Download the folder"
      ]
    },
    {
      "cell_type": "code",
      "execution_count": null,
      "id": "QEppacl3LrNY",
      "metadata": {
        "colab": {
          "base_uri": "https://localhost:8080/"
        },
        "id": "QEppacl3LrNY",
        "outputId": "50a9f090-cf68-4abb-9c11-b1f53cb327aa"
      },
      "outputs": [],
      "source": [
        "!rm -rf Training-Day2\n",
        "!git clone https://github.com/Ahirvoas/Training-Day2"
      ]
    },
    {
      "cell_type": "markdown",
      "id": "b9e44cdb",
      "metadata": {
        "id": "b9e44cdb"
      },
      "source": [
        "# Wind Turbine Modeling Workshop\n",
        "\n",
        "## OpenFAST\n",
        "\n",
        "OpenFAST is a multi-physics and multi-fidelity tool for the simulation of the coupled dynamic response of wind turbines. The software allows the analysis of a wide range of wind turbine configurations, including those with two- or three-bladed horizontal axis rotors, pitch regulated or fixed pitch, rigid or tilting hubs, downwind or upwind rotors, and lattice or tubular towers. In addition, the wind turbine can be modelled on land or at sea on fixed or floating substructures.\n",
        "\n",
        "<img src=\"https://drive.google.com/uc?export=view&id=1UqbFPXcbv035NGfpkbq8thaMF3An8PaT\" width=\"500\"/>\n",
        "\n",
        "## OpenFAST - python toolbox\n",
        "\n",
        "pyfast is a Python package developed by the NREL team to couple quickly and easily the OpenFAST tool. This package allows the modification and post-processing of files."
      ]
    },
    {
      "cell_type": "code",
      "execution_count": null,
      "id": "f88957e0",
      "metadata": {
        "id": "f88957e0"
      },
      "outputs": [],
      "source": [
        "# Package pyfast importation  (and some useful packages)\n",
        "\n",
        "from pyFAST.case_generation.runner import run_fast\n",
        "import pyFAST.postpro as postpro\n",
        "from pyFAST.input_output import FASTOutputFile\n",
        "from pyFAST.input_output import FASTInputFile\n",
        "import matplotlib.pyplot as plt\n",
        "import numpy as np\n",
        "from scipy import signal\n",
        "import os"
      ]
    },
    {
      "cell_type": "markdown",
      "id": "8f053391",
      "metadata": {
        "id": "8f053391"
      },
      "source": [
        "### Case - Floating offfshore wind turbine steady wind\n",
        "\n",
        "<img src=\"https://drive.google.com/uc?export=view&id=1vddiFGtyuvC0u7X3GUwbSrYkZbmYdT5B\" width=\"250\"/>\n",
        "\n",
        "This tutorial is based on a **offshore reference wind turbine** developed within the Offshore Code Comparison 3 project which is a spar buoy structure with the NREL 5MW wind turbine atop.The gross properties chosen for the NREL 5-MW baseline wind turbine are gathered in the following table.\n",
        "\n",
        "| Rating | 5 MW |\n",
        "|:---:|:---:|\n",
        "| Rotor orientation, Configuraiton | Upwind, 3 Blades |\n",
        "| Rotor, Hub Diameter | 126 m, 3m |\n",
        "| Hub Height | 90 m |\n",
        "| Cut-In, Rated, Cut-Out Wind Speed | 3m/s, 11.4m/s, 25m/s |\n",
        "| Cut-in, rated rotor speed | 6.9 rpm, 12.1 rpm |\n",
        "| Rotor Mass | 110,000 kg |\n",
        "| Nacelle Mass | 240,000 kg |\n",
        "| Tower Mass | 347,460 kg |\n",
        "\n",
        "In this tutorial, we will consider, hereafter, a **steady wind** as external sollicitation."
      ]
    },
    {
      "cell_type": "code",
      "execution_count": null,
      "id": "ghkoFcAYN2En",
      "metadata": {
        "id": "ghkoFcAYN2En"
      },
      "outputs": [],
      "source": [
        "path = os.path.join(os.getcwd(), 'Training-Day1', 'OffshoreSteadyWindCtrl')"
      ]
    },
    {
      "cell_type": "code",
      "execution_count": null,
      "id": "c7b9912e",
      "metadata": {
        "id": "c7b9912e"
      },
      "outputs": [],
      "source": [
        "# Specify the OpenFAST binaries and OpenFAST main file for simulation\n",
        "\n",
        "FAST_EXE  = r'/usr/local/bin/openfast' # Location of a FAST exe (and dll) (FAST_EXE  = openfast)\n",
        "main_file = os.path.join(path, 'NRELOffshrBsline5MW.fst')  # Main file in OpenFAST directory"
      ]
    },
    {
      "cell_type": "markdown",
      "id": "13c6c201",
      "metadata": {
        "id": "13c6c201"
      },
      "source": [
        "### 1 - Run your first wind turbine simulation\n",
        "\n",
        "#### Run your first simulation thanks to OpenFAST software. We will use the *run_fast* function developed in the pyFAST package."
      ]
    },
    {
      "cell_type": "code",
      "execution_count": null,
      "id": "facd42b3",
      "metadata": {
        "colab": {
          "base_uri": "https://localhost:8080/"
        },
        "id": "facd42b3",
        "outputId": "bb404ef8-ef9d-4930-e789-03b4e7fb518c"
      },
      "outputs": [],
      "source": [
        "# Run OpenFAST\n",
        "\n",
        "print('Running example script: {}'.format(main_file))\n",
        "run_fast(main_file, fastExe=FAST_EXE, wait=True, showOutputs=True, showCommand=True)"
      ]
    },
    {
      "cell_type": "markdown",
      "id": "2abd466a",
      "metadata": {
        "id": "2abd466a"
      },
      "source": [
        "#### Look a the OpenFAST working directory and find the modification (i.e., the new files created after the OpenFAST run)."
      ]
    },
    {
      "cell_type": "code",
      "execution_count": null,
      "id": "dec0b008",
      "metadata": {
        "colab": {
          "base_uri": "https://localhost:8080/"
        },
        "id": "dec0b008",
        "outputId": "ccd9a404-be7e-495d-fc5e-febd584f334b",
        "scrolled": true
      },
      "outputs": [],
      "source": [
        "# Average Post-treatment of OpenFAST output file\n",
        "\n",
        "outFile = os.path.join(path, 'NRELOffshrBsline5MW.out') # path\\outputfile\n",
        "avg_results = postpro.averagePostPro([outFile])\n",
        "print('Average results on full simulation length')\n",
        "print(avg_results)"
      ]
    },
    {
      "cell_type": "markdown",
      "id": "596ffb26",
      "metadata": {
        "id": "596ffb26"
      },
      "source": [
        "#### Read an OpenFAST output file and convert it to a pandas DataFrame"
      ]
    },
    {
      "cell_type": "code",
      "execution_count": null,
      "id": "f25eae98",
      "metadata": {
        "id": "f25eae98"
      },
      "outputs": [],
      "source": [
        "df = FASTOutputFile(outFile).toDataFrame()"
      ]
    },
    {
      "cell_type": "code",
      "execution_count": null,
      "id": "1c8dd1bf",
      "metadata": {
        "colab": {
          "base_uri": "https://localhost:8080/",
          "height": 273
        },
        "id": "1c8dd1bf",
        "outputId": "576cba4f-7257-4d18-89e7-7e454c7c2c88",
        "scrolled": true
      },
      "outputs": [],
      "source": [
        "df.head()"
      ]
    },
    {
      "cell_type": "markdown",
      "id": "44eed165",
      "metadata": {
        "id": "44eed165"
      },
      "source": [
        "#### Exercice:\n",
        "\n",
        "##### Rotor speed of the wind turbine:\n",
        "\n",
        "Plot the rotor speed of the wind turbine versus the time obtained from the previous simulation. The variables of interest in the Pandas Dataframe are respectively named *RotSpeed_[rpm]* and *Time_[s]*.\n",
        "\n",
        "Hint:\n",
        "\n",
        "You can use the matplotlib library in order to plot y versus x as lines.\n",
        "\n",
        "For information [click here](https://matplotlib.org/stable/api/_as_gen/matplotlib.pyplot.plot.html) and an example:\n",
        "```python\n",
        "import matplotlib.pyplot as plt\n",
        "\n",
        "x = [1, 2, 3]\n",
        "y = np.array([[1, 2], [3, 4], [5, 6]])\n",
        "plot(x, y)\n",
        "```"
      ]
    },
    {
      "cell_type": "code",
      "execution_count": null,
      "id": "a9795e2e",
      "metadata": {
        "id": "a9795e2e"
      },
      "outputs": [],
      "source": [
        "# INSERT CODE"
      ]
    },
    {
      "cell_type": "markdown",
      "id": "59b6e994",
      "metadata": {
        "id": "59b6e994"
      },
      "source": [
        "##### Rotor speed and generated power of the wind turbine:\n",
        "\n",
        "Plot the rotor speed and the generated power of the wind turbine versus the time obtained from the previous simulation. For comparison, you can plot the two time-series on the same graph thanks to the function *subplot*.\n",
        "\n",
        "Hint:\n",
        "\n",
        "You can find the corresponding variables of the Pandas Dataframe for the electrical generator power by looking at the Excel file *OutListParameters.xlsx*.\n",
        "\n",
        "An example of the python function to be used:\n",
        "\n",
        "```python\n",
        "import numpy as np\n",
        "import matplotlib.pyplot as plt\n",
        "\n",
        "\n",
        "def f(t):\n",
        "    return np.exp(-t) * np.cos(2*np.pi*t)\n",
        "\n",
        "\n",
        "t1 = np.arange(0.0, 5.0, 0.02)\n",
        "\n",
        "plt.figure()\n",
        "plt.subplot(211)\n",
        "plt.plot(t1, f(t1), color='black')\n",
        "\n",
        "plt.subplot(212)\n",
        "plt.plot(t1, np.cos(2*np.pi*t1), color='tab:orange', linestyle='--')\n",
        "plt.show()\n",
        "```"
      ]
    },
    {
      "cell_type": "code",
      "execution_count": null,
      "id": "e7006e39",
      "metadata": {
        "id": "e7006e39"
      },
      "outputs": [],
      "source": [
        "# INSERT CODE"
      ]
    },
    {
      "cell_type": "markdown",
      "id": "9b927c62",
      "metadata": {
        "id": "9b927c62"
      },
      "source": [
        "### 2 - Modification of the OpenFAST files\n",
        "\n",
        "In practice, OpenFAST models the system via computational modules for aerodynamics, hydrodynamics for offshore structures, control and electrical (servo) system dynamics, and structural dynamics to enable coupled non-linear aero-hydro-servo-elastic simulation in the time domain.\n",
        "\n",
        "<img src=\"https://drive.google.com/uc?export=view&id=1dvyZ1GJtchd-H5oamzObL6XOaqFi0uN3\" width=\"500\"/>\n",
        "\n",
        "Each of these modules is independent of the others and is based on a configuration file that creates an arborescence of files to carry out an OpenFAST simulation.\n",
        "\n",
        "<img src=\"https://drive.google.com/uc?export=view&id=1jBPGzDmvX49-6FInYqm1KM9evxC_BJRw\" width=\"500\"/>"
      ]
    },
    {
      "cell_type": "markdown",
      "id": "138093ab",
      "metadata": {
        "id": "138093ab"
      },
      "source": [
        "#### Modification of the wind speed magnitude\n",
        "\n",
        "In this part, we will modify the wind speed magnitude to the rated value. For that purpose we will have to change a specific variable in the InflowWind file related to the wind-inflow external sollicitation.\n",
        "\n",
        "First, you will have to open the InflowWind file and find the correct value to change. **Remember** that we consider in this tutorial for simplicity a steady wind solicitation.\n",
        "\n",
        "**Hint:**\n",
        "\n",
        "    Pay attention to the comments in the file of interest !\n",
        "\n",
        "##### Modification of the InflowWind file"
      ]
    },
    {
      "cell_type": "code",
      "execution_count": null,
      "id": "2d727696",
      "metadata": {
        "id": "2d727696"
      },
      "outputs": [],
      "source": [
        "filename_inflow = os.path.join(path, 'InflowWind.dat') # Insert the name of the InflowWind file with the path (relative or absolute)\n",
        "f_inflow = FASTInputFile(filename_inflow)\n",
        "f_inflow['HWindSpeed'] = 11.4 # Insert the rated speed of the 5MW wind turbine\n",
        "new_filename_inflow = 'InflowWind_{}mps.dat'.format(int(f_inflow['HWindSpeed'])) # New name of the InflowWind file\n",
        "save_path = os.path.join(path, new_filename_inflow)\n",
        "f_inflow.write(save_path) # Save the new generated InflowWind file"
      ]
    },
    {
      "cell_type": "markdown",
      "id": "bcb9b491",
      "metadata": {
        "id": "bcb9b491"
      },
      "source": [
        "##### Modification of the main OpenFAST file"
      ]
    },
    {
      "cell_type": "code",
      "execution_count": null,
      "id": "ee6e6207",
      "metadata": {
        "id": "ee6e6207"
      },
      "outputs": [],
      "source": [
        "f_mainfile = FASTInputFile(main_file)\n",
        "f_mainfile['InflowFile'] = '\"'+new_filename_inflow+'\"'\n",
        "new_filename_mainfile = os.path.join(path, 'Main_{}mps.fst'.format(int(f_inflow['HWindSpeed'])))\n",
        "f_mainfile.write(new_filename_mainfile)"
      ]
    },
    {
      "cell_type": "markdown",
      "id": "4df96494",
      "metadata": {
        "id": "4df96494"
      },
      "source": [
        "##### Run OpenFAST with the new modified files.\n",
        "\n",
        "**Hint:**\n",
        "    \n",
        "    You can use the previous command use to run the simulation"
      ]
    },
    {
      "cell_type": "code",
      "execution_count": null,
      "id": "9660ab2f",
      "metadata": {
        "id": "9660ab2f",
        "scrolled": true
      },
      "outputs": [],
      "source": [
        "# INSERT CODE"
      ]
    },
    {
      "cell_type": "markdown",
      "id": "1e948fa1",
      "metadata": {
        "id": "1e948fa1"
      },
      "source": [
        "##### Rotor speed and generated power of the wind turbine:\n",
        "\n",
        "Plot the rotor speed and the generated power of the wind turbine versus the time obtained from the previous simulation. For comparison, you can plot the two time-series on the same graph thanks to the function *subplot* as previously.\n",
        "\n",
        "Please plot also the results of the 1-st simulation obtained in this tutorial for comparison!\n",
        "\n",
        "**Hint:**\n",
        "\n",
        "    Load the output file in a new pandas dataframe"
      ]
    },
    {
      "cell_type": "code",
      "execution_count": null,
      "id": "faa39306",
      "metadata": {
        "id": "faa39306",
        "scrolled": true
      },
      "outputs": [],
      "source": [
        "# INSERT CODE"
      ]
    },
    {
      "cell_type": "code",
      "execution_count": null,
      "id": "b16bf5fb",
      "metadata": {
        "id": "b16bf5fb"
      },
      "outputs": [],
      "source": [
        "# INSERT CODE"
      ]
    },
    {
      "cell_type": "markdown",
      "id": "db3cc145",
      "metadata": {
        "id": "db3cc145"
      },
      "source": [
        "#### Time for discussion"
      ]
    }
  ],
  "metadata": {
    "colab": {
      "include_colab_link": true,
      "provenance": []
    },
    "kernelspec": {
      "display_name": "Python 3 (ipykernel)",
      "language": "python",
      "name": "python3"
    },
    "language_info": {
      "codemirror_mode": {
        "name": "ipython",
        "version": 3
      },
      "file_extension": ".py",
      "mimetype": "text/x-python",
      "name": "python",
      "nbconvert_exporter": "python",
      "pygments_lexer": "ipython3",
      "version": "3.8.15"
    }
  },
  "nbformat": 4,
  "nbformat_minor": 5
}
